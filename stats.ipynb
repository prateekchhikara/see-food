{
 "cells": [
  {
   "cell_type": "code",
   "execution_count": 50,
   "metadata": {},
   "outputs": [],
   "source": [
    "import json, os"
   ]
  },
  {
   "cell_type": "code",
   "execution_count": null,
   "metadata": {},
   "outputs": [],
   "source": []
  },
  {
   "cell_type": "code",
   "execution_count": 2,
   "metadata": {},
   "outputs": [],
   "source": [
    "with open(\"images/det_ingrs.json\", \"r\") as f:\n",
    "    data = json.load(f)"
   ]
  },
  {
   "cell_type": "code",
   "execution_count": 3,
   "metadata": {},
   "outputs": [
    {
     "data": {
      "text/plain": [
       "1029720"
      ]
     },
     "execution_count": 3,
     "metadata": {},
     "output_type": "execute_result"
    }
   ],
   "source": [
    "len(data)"
   ]
  },
  {
   "cell_type": "code",
   "execution_count": 43,
   "metadata": {},
   "outputs": [
    {
     "data": {
      "text/plain": [
       "{'valid': [True, True, True, True, True, True, True, True, True, True],\n",
       " 'id': '00141df42c',\n",
       " 'ingredients': [{'text': 'boneless skinless chicken breasts'},\n",
       "  {'text': 'garlic powder'},\n",
       "  {'text': 'eggs'},\n",
       "  {'text': 'all - purpose flour'},\n",
       "  {'text': 'sugar substitute'},\n",
       "  {'text': 'pineapple chunks'},\n",
       "  {'text': 'white vinegar'},\n",
       "  {'text': 'ketchup'},\n",
       "  {'text': 'low sodium soy sauce'},\n",
       "  {'text': 'salt'}]}"
      ]
     },
     "execution_count": 43,
     "metadata": {},
     "output_type": "execute_result"
    }
   ],
   "source": [
    "data[303]"
   ]
  },
  {
   "cell_type": "code",
   "execution_count": 5,
   "metadata": {},
   "outputs": [
    {
     "data": {
      "text/plain": [
       "1029720"
      ]
     },
     "execution_count": 5,
     "metadata": {},
     "output_type": "execute_result"
    }
   ],
   "source": [
    "with open(\"images/layer1.json\", \"r\") as f:\n",
    "    dataLayer1 = json.load(f)\n",
    "    \n",
    "len(dataLayer1)"
   ]
  },
  {
   "cell_type": "code",
   "execution_count": 42,
   "metadata": {},
   "outputs": [
    {
     "data": {
      "text/plain": [
       "{'ingredients': [{'text': '4 boneless skinless chicken breasts'},\n",
       "  {'text': '12 teaspoon garlic powder'},\n",
       "  {'text': '2 eggs, beaten'},\n",
       "  {'text': '12 cup all-purpose flour'},\n",
       "  {'text': '12 cup sugar substitute'},\n",
       "  {'text': '1 (8 ounce) can pineapple chunks, drained, with 1/4 cup juice reserved'},\n",
       "  {'text': '34 cup white vinegar'},\n",
       "  {'text': '34 cup ketchup'},\n",
       "  {'text': '1 teaspoon low sodium soy sauce'},\n",
       "  {'text': '34 teaspoon salt'}],\n",
       " 'url': 'http://www.food.com/recipe/pineapple-chicken-180582',\n",
       " 'partition': 'val',\n",
       " 'title': 'Pineapple Chicken',\n",
       " 'id': '00141df42c',\n",
       " 'instructions': [{'text': 'Heat oven to 350.'},\n",
       "  {'text': 'Spray 9x13 pan with cooking spray.'},\n",
       "  {'text': 'Season chicken with garlic powder.'},\n",
       "  {'text': 'Dip chicken in egg, then flour.'},\n",
       "  {'text': 'Put chicken in pan.'},\n",
       "  {'text': 'In saucepan, mix together sugar, pineapple juice, vinegar, ketchup, soy, and salt.'},\n",
       "  {'text': 'Bring to boil.'},\n",
       "  {'text': 'Pour mixture over chicken and arrange pineapples around chicken.'},\n",
       "  {'text': 'Bake uncovered 20 to 25 minutes or until internal temperature reaches 160 degrees.'},\n",
       "  {'text': 'Plate it up and enjoy!'}]}"
      ]
     },
     "execution_count": 42,
     "metadata": {},
     "output_type": "execute_result"
    }
   ],
   "source": [
    "dataLayer1[303]"
   ]
  },
  {
   "cell_type": "code",
   "execution_count": 98,
   "metadata": {},
   "outputs": [],
   "source": [
    "train_IDs, test_IDs, valid_IDs = [], [], []\n",
    "layer1Data = []\n",
    "for k in dataLayer1:\n",
    "    if k[\"partition\"] == \"train\":\n",
    "        train_IDs.append(k[\"id\"])\n",
    "    if k[\"partition\"] == \"test\":\n",
    "        test_IDs.append(k[\"id\"])\n",
    "    if k[\"partition\"] == \"val\":\n",
    "        valid_IDs.append(k[\"id\"])\n",
    "        \n",
    "    layer1Data.append(k)\n",
    "        \n",
    "    if len(layer1Data) == 1000:\n",
    "        break"
   ]
  },
  {
   "cell_type": "code",
   "execution_count": 99,
   "metadata": {},
   "outputs": [
    {
     "data": {
      "text/plain": [
       "(148, 698, 154, 1000)"
      ]
     },
     "execution_count": 99,
     "metadata": {},
     "output_type": "execute_result"
    }
   ],
   "source": [
    "len(valid_IDs), len(train_IDs), len(test_IDs), len(layer1Data)"
   ]
  },
  {
   "cell_type": "code",
   "execution_count": 7,
   "metadata": {},
   "outputs": [
    {
     "data": {
      "text/plain": [
       "402760"
      ]
     },
     "execution_count": 7,
     "metadata": {},
     "output_type": "execute_result"
    }
   ],
   "source": [
    "with open(\"images/layer2.json\", \"r\") as f:\n",
    "    dataLayer2 = json.load(f)\n",
    "    \n",
    "len(dataLayer2)"
   ]
  },
  {
   "cell_type": "code",
   "execution_count": 26,
   "metadata": {},
   "outputs": [
    {
     "data": {
      "text/plain": [
       "{'id': '01749ea781',\n",
       " 'images': [{'id': 'b31c3c48ca.jpg',\n",
       "   'url': 'http://img.sndimg.com/food/image/upload/w_512,h_512,c_fit,fl_progressive,q_95/v1/img/recipes/16/41/27/picbboqWt.jpg'}]}"
      ]
     },
     "execution_count": 26,
     "metadata": {},
     "output_type": "execute_result"
    }
   ],
   "source": [
    "dataLayer2[2340]"
   ]
  },
  {
   "cell_type": "code",
   "execution_count": 100,
   "metadata": {},
   "outputs": [],
   "source": [
    "layer2Data = []\n",
    "for k in dataLayer2:\n",
    "    if k[\"id\"] in train_IDs + test_IDs + valid_IDs:\n",
    "        layer2Data.append(k)"
   ]
  },
  {
   "cell_type": "code",
   "execution_count": 104,
   "metadata": {},
   "outputs": [],
   "source": [
    "import urllib.request, requests\n",
    "def downloadImage(imgURL, path):\n",
    "    try:\n",
    "        response = requests.get(imgURL)\n",
    "        with open(path, \"wb\") as f:\n",
    "            f.write(response.content)\n",
    "    except Exception as e:\n",
    "        pass"
   ]
  },
  {
   "cell_type": "code",
   "execution_count": 107,
   "metadata": {},
   "outputs": [],
   "source": [
    "os.system(f\"mkdir images/val/\")\n",
    "os.system(f\"mkdir images/train/\")\n",
    "os.system(f\"mkdir images/test/\")\n",
    "\n",
    "for k in dataLayer2:\n",
    "    if k[\"id\"] in valid_IDs:\n",
    "        # print(k)\n",
    "        foodId = k[\"id\"]\n",
    "        allImages = k[\"images\"]\n",
    "        os.mkdir(f\"images/val/{foodId}\")\n",
    "        for im in allImages:\n",
    "            downloadImage(im[\"url\"], f\"images/val/{foodId}/{im['id']}\")\n",
    "            \n",
    "    if k[\"id\"] in train_IDs:\n",
    "        # print(k)\n",
    "        foodId = k[\"id\"]\n",
    "        allImages = k[\"images\"]\n",
    "        os.mkdir(f\"images/train/{foodId}\")\n",
    "        for im in allImages:\n",
    "            downloadImage(im[\"url\"], f\"images/train/{foodId}/{im['id']}\")\n",
    "            \n",
    "    if k[\"id\"] in test_IDs:\n",
    "        # print(k)\n",
    "        foodId = k[\"id\"]\n",
    "        allImages = k[\"images\"]\n",
    "        os.mkdir(f\"images/test/{foodId}\")\n",
    "        for im in allImages:\n",
    "            downloadImage(im[\"url\"], f\"images/test/{foodId}/{im['id']}\")\n",
    "            \n",
    "walk = list(os.walk(\"../images/train/\"))\n",
    "for path, _, _ in walk[::-1]:\n",
    "    if len(os.listdir(path)) == 0:\n",
    "        os.remove(path)\n",
    "        \n",
    "walk = list(os.walk(\"../images/test/\"))\n",
    "for path, _, _ in walk[::-1]:\n",
    "    if len(os.listdir(path)) == 0:\n",
    "        os.remove(path)\n",
    "        \n",
    "walk = list(os.walk(\"../images/val/\"))\n",
    "for path, _, _ in walk[::-1]:\n",
    "    if len(os.listdir(path)) == 0:\n",
    "        os.remove(path)"
   ]
  },
  {
   "cell_type": "code",
   "execution_count": 36,
   "metadata": {},
   "outputs": [],
   "source": [
    "# 36ad774009, no images"
   ]
  },
  {
   "cell_type": "code",
   "execution_count": 108,
   "metadata": {},
   "outputs": [
    {
     "data": {
      "text/plain": [
       "1000"
      ]
     },
     "execution_count": 108,
     "metadata": {},
     "output_type": "execute_result"
    }
   ],
   "source": [
    "dataSmall = []\n",
    "for d in data:\n",
    "    if d[\"id\"] in train_IDs + test_IDs + valid_IDs:\n",
    "        dataSmall.append(d)\n",
    "        \n",
    "len(dataSmall)"
   ]
  },
  {
   "cell_type": "code",
   "execution_count": 109,
   "metadata": {},
   "outputs": [
    {
     "data": {
      "text/plain": [
       "(1000, 401, 1000)"
      ]
     },
     "execution_count": 109,
     "metadata": {},
     "output_type": "execute_result"
    }
   ],
   "source": [
    "len(layer1Data), len(layer2Data), len(dataSmall)"
   ]
  },
  {
   "cell_type": "code",
   "execution_count": 110,
   "metadata": {},
   "outputs": [],
   "source": [
    "with open(\"images/det_ingrs_small.json\", \"w+\") as f:\n",
    "    json.dump(dataSmall, f)\n",
    "    \n",
    "with open(\"images/layer1_small.json\", \"w+\") as f:\n",
    "    json.dump(layer1Data, f)\n",
    "    \n",
    "with open(\"images/layer2_small.json\", \"w+\") as f:\n",
    "    json.dump(layer2Data, f)"
   ]
  },
  {
   "cell_type": "code",
   "execution_count": 111,
   "metadata": {},
   "outputs": [],
   "source": [
    "for i in range(len(dataSmall)):\n",
    "    if dataSmall[i][\"id\"] != layer1Data[i][\"id\"]:\n",
    "        print(\"error\")"
   ]
  },
  {
   "cell_type": "code",
   "execution_count": null,
   "metadata": {},
   "outputs": [],
   "source": []
  },
  {
   "cell_type": "code",
   "execution_count": null,
   "metadata": {},
   "outputs": [],
   "source": []
  },
  {
   "cell_type": "code",
   "execution_count": 130,
   "metadata": {},
   "outputs": [
    {
     "ename": "AttributeError",
     "evalue": "Can't get attribute 'Vocabulary' on <module '__main__'>",
     "output_type": "error",
     "traceback": [
      "\u001b[0;31m---------------------------------------------------------------------------\u001b[0m",
      "\u001b[0;31mAttributeError\u001b[0m                            Traceback (most recent call last)",
      "Cell \u001b[0;32mIn[130], line 6\u001b[0m\n\u001b[1;32m      3\u001b[0m \u001b[39m# open pickle file in read binary mode\u001b[39;00m\n\u001b[1;32m      4\u001b[0m \u001b[39mwith\u001b[39;00m \u001b[39mopen\u001b[39m(\u001b[39m'\u001b[39m\u001b[39mgarbage/recipe1m_vocab_toks.pkl\u001b[39m\u001b[39m'\u001b[39m, \u001b[39m'\u001b[39m\u001b[39mrb\u001b[39m\u001b[39m'\u001b[39m) \u001b[39mas\u001b[39;00m f:\n\u001b[1;32m      5\u001b[0m     \u001b[39m# load the data from the file using pickle.load()\u001b[39;00m\n\u001b[0;32m----> 6\u001b[0m     dataTemp \u001b[39m=\u001b[39m pickle\u001b[39m.\u001b[39;49mload(f)\n\u001b[1;32m      8\u001b[0m \u001b[39mtype\u001b[39m(dataTemp), \u001b[39mlen\u001b[39m(dataTemp)\n",
      "\u001b[0;31mAttributeError\u001b[0m: Can't get attribute 'Vocabulary' on <module '__main__'>"
     ]
    }
   ],
   "source": [
    "import pickle\n",
    "\n",
    "# open pickle file in read binary mode\n",
    "with open('garbage/recipe1m_vocab_toks.pkl', 'rb') as f:\n",
    "    # load the data from the file using pickle.load()\n",
    "    dataTemp = pickle.load(f)\n",
    "    \n",
    "type(dataTemp), len(dataTemp)"
   ]
  },
  {
   "cell_type": "code",
   "execution_count": 128,
   "metadata": {},
   "outputs": [
    {
     "data": {
      "text/plain": [
       "['crunchy', 'onion', 'potato', 'bake']"
      ]
     },
     "execution_count": 128,
     "metadata": {},
     "output_type": "execute_result"
    }
   ],
   "source": [
    "dataTemp[0][\"title\"]"
   ]
  },
  {
   "cell_type": "code",
   "execution_count": null,
   "metadata": {},
   "outputs": [],
   "source": []
  },
  {
   "cell_type": "code",
   "execution_count": null,
   "metadata": {},
   "outputs": [],
   "source": []
  },
  {
   "cell_type": "code",
   "execution_count": null,
   "metadata": {},
   "outputs": [],
   "source": [
    "python train.py --model_name im2ingr --batch_size 150 --finetune_after 0 --ingrs_only \\\n",
    "--es_metric iou_sample --loss_weight 0 1000.0 1.0 1.0 \\\n",
    "--learning_rate 1e-4 --scale_learning_rate_cnn 1.0 \\\n",
    "--save_dir ../checkpoints --recipe1m_dir path_to_dataset --load_jpeg"
   ]
  }
 ],
 "metadata": {
  "kernelspec": {
   "display_name": "invcook",
   "language": "python",
   "name": "python3"
  },
  "language_info": {
   "codemirror_mode": {
    "name": "ipython",
    "version": 3
   },
   "file_extension": ".py",
   "mimetype": "text/x-python",
   "name": "python",
   "nbconvert_exporter": "python",
   "pygments_lexer": "ipython3",
   "version": "3.9.16"
  },
  "orig_nbformat": 4
 },
 "nbformat": 4,
 "nbformat_minor": 2
}

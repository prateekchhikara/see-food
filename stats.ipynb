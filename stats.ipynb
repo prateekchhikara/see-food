{
 "cells": [
  {
   "cell_type": "code",
   "execution_count": 1,
   "metadata": {},
   "outputs": [],
   "source": [
    "import json"
   ]
  },
  {
   "cell_type": "code",
   "execution_count": 2,
   "metadata": {},
   "outputs": [],
   "source": [
    "with open(\"images/det_ingrs.json\", \"r\") as f:\n",
    "    data = json.load(f)"
   ]
  },
  {
   "cell_type": "code",
   "execution_count": 4,
   "metadata": {},
   "outputs": [
    {
     "data": {
      "text/plain": [
       "1029720"
      ]
     },
     "execution_count": 4,
     "metadata": {},
     "output_type": "execute_result"
    }
   ],
   "source": [
    "len(data)"
   ]
  },
  {
   "cell_type": "code",
   "execution_count": 13,
   "metadata": {},
   "outputs": [
    {
     "data": {
      "text/plain": [
       "{'valid': [True,\n",
       "  True,\n",
       "  True,\n",
       "  True,\n",
       "  True,\n",
       "  True,\n",
       "  True,\n",
       "  True,\n",
       "  False,\n",
       "  False,\n",
       "  True,\n",
       "  True,\n",
       "  True,\n",
       "  False],\n",
       " 'id': '000018c8a5',\n",
       " 'ingredients': [{'text': 'penne'},\n",
       "  {'text': 'cheese sauce'},\n",
       "  {'text': 'cheddar cheese'},\n",
       "  {'text': 'gruyere cheese'},\n",
       "  {'text': 'dried chipotle powder'},\n",
       "  {'text': 'unsalted butter'},\n",
       "  {'text': 'all - purpose flour'},\n",
       "  {'text': 'milk'},\n",
       "  {'text': '14 ounces semihard cheese (page 23), grated (about 3 1/2 cups)'},\n",
       "  {'text': '2 ounces semisoft cheese (page 23), grated (1/2 cup)'},\n",
       "  {'text': 'kosher salt'},\n",
       "  {'text': 'dried chipotle powder'},\n",
       "  {'text': 'garlic powder'},\n",
       "  {'text': '(makes about 4 cups)'}]}"
      ]
     },
     "execution_count": 13,
     "metadata": {},
     "output_type": "execute_result"
    }
   ],
   "source": [
    "data[0]"
   ]
  },
  {
   "cell_type": "code",
   "execution_count": 14,
   "metadata": {},
   "outputs": [],
   "source": [
    "with open(\"images/layer1.json\", \"r\") as f:\n",
    "    dataLayer1 = json.load(f)\n",
    "    \n",
    "len(dataLayer1)"
   ]
  },
  {
   "cell_type": "code",
   "execution_count": null,
   "metadata": {},
   "outputs": [],
   "source": []
  },
  {
   "cell_type": "code",
   "execution_count": null,
   "metadata": {},
   "outputs": [],
   "source": []
  },
  {
   "cell_type": "code",
   "execution_count": null,
   "metadata": {},
   "outputs": [],
   "source": [
    "dataLayer1[0]"
   ]
  },
  {
   "cell_type": "code",
   "execution_count": null,
   "metadata": {},
   "outputs": [],
   "source": [
    "with open(\"images/layer2.json\", \"r\") as f:\n",
    "    dataLayer2 = json.load(f)\n",
    "    \n",
    "len(dataLayer2)"
   ]
  },
  {
   "cell_type": "code",
   "execution_count": null,
   "metadata": {},
   "outputs": [],
   "source": []
  }
 ],
 "metadata": {
  "kernelspec": {
   "display_name": "invcook",
   "language": "python",
   "name": "python3"
  },
  "language_info": {
   "codemirror_mode": {
    "name": "ipython",
    "version": 3
   },
   "file_extension": ".py",
   "mimetype": "text/x-python",
   "name": "python",
   "nbconvert_exporter": "python",
   "pygments_lexer": "ipython3",
   "version": "3.9.16"
  },
  "orig_nbformat": 4
 },
 "nbformat": 4,
 "nbformat_minor": 2
}

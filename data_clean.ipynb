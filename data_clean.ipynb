{
 "cells": [
  {
   "cell_type": "code",
   "execution_count": 30,
   "metadata": {},
   "outputs": [],
   "source": [
    "import json\n",
    "from tqdm import tqdm\n",
    "from PIL import Image\n",
    "from glob import glob\n",
    "import os\n",
    "\n"
   ]
  },
  {
   "cell_type": "code",
   "execution_count": 39,
   "metadata": {},
   "outputs": [
    {
     "name": "stdout",
     "output_type": "stream",
     "text": [
      "2533\n"
     ]
    }
   ],
   "source": [
    "parent_folder = \"/data/prateek/github/see-food/images_10k/train/\"\n",
    "recipe_ids = glob(parent_folder + \"/*\")\n",
    "print(len(recipe_ids))"
   ]
  },
  {
   "cell_type": "code",
   "execution_count": null,
   "metadata": {},
   "outputs": [],
   "source": []
  },
  {
   "cell_type": "code",
   "execution_count": 40,
   "metadata": {},
   "outputs": [],
   "source": [
    "# def remove_empty_folders(path):\n",
    "#     for root, dirs, files in os.walk(path, topdown=False):\n",
    "#         for dir in dirs:\n",
    "#             folder = os.path.join(root, dir)\n",
    "#             if not os.listdir(folder):\n",
    "#                 os.rmdir(folder)\n",
    "#                 print(f'Removed empty folder: {folder}')\n",
    "                \n",
    "# remove_empty_folders(\"/data/prateek/github/see-food/images_10k/test/\")\n",
    "# remove_empty_folders(\"/data/prateek/github/see-food/images_10k/train/\")\n",
    "# remove_empty_folders(\"/data/prateek/github/see-food/images_10k/val/\")"
   ]
  },
  {
   "cell_type": "code",
   "execution_count": 42,
   "metadata": {},
   "outputs": [],
   "source": [
    "# remove unloaded images\n",
    "\n",
    "count = 0\n",
    "empty_folders = 0\n",
    "# for recipe in tqdm(recipe_ids):\n",
    "#     all_images = glob(recipe + \"/*g\")\n",
    "#     if len(all_images) == 0:\n",
    "#         empty_folders += 1\n",
    "#         continue\n",
    "#     for im in all_images:\n",
    "#         try:\n",
    "#             image = Image.open(im).convert('RGB')\n",
    "#         except Exception as e:\n",
    "#             print(im)\n",
    "#             os.remove(im)\n",
    "\n",
    "            \n",
    "# print(count)\n",
    "# print(empty_folders)\n",
    "    "
   ]
  },
  {
   "cell_type": "code",
   "execution_count": 52,
   "metadata": {},
   "outputs": [
    {
     "name": "stdout",
     "output_type": "stream",
     "text": [
      "3582\n"
     ]
    }
   ],
   "source": [
    "all_recipe = glob(\"/data/prateek/github/see-food/images_10k/train/*\") + glob(\"/data/prateek/github/see-food/images_10k/val/*\") + glob(\"/data/prateek/github/see-food/images_10k/test/*\")\n",
    "all_recipe_names = [i.split(\"/\")[-1] for i in all_recipe]\n",
    "print(len(all_recipe_names))"
   ]
  },
  {
   "cell_type": "code",
   "execution_count": 67,
   "metadata": {},
   "outputs": [
    {
     "name": "stdout",
     "output_type": "stream",
     "text": [
      "7532\n"
     ]
    }
   ],
   "source": [
    "all_images_list = []\n",
    "\n",
    "for fldr in all_recipe:\n",
    "    for im in glob(fldr + \"/*g\"):\n",
    "        im = im.split(\"/\")[-1]\n",
    "        all_images_list.append(im)\n",
    "        \n",
    "print(len(all_images_list))"
   ]
  },
  {
   "cell_type": "code",
   "execution_count": 57,
   "metadata": {},
   "outputs": [
    {
     "name": "stdout",
     "output_type": "stream",
     "text": [
      "3582\n"
     ]
    }
   ],
   "source": [
    "\n",
    "with open(\"/data/prateek/github/see-food/images_10k/det_ingrs_small_updated.json\", \"r\") as f:\n",
    "    det_ingrs = json.load(f)\n",
    "    \n",
    "print(len(det_ingrs))\n",
    "    \n",
    "# det_ingrs_new = []\n",
    "# missing = 0\n",
    "# for k in tqdm(det_ingrs):\n",
    "#     if k[\"id\"] in all_recipe_names:\n",
    "#         det_ingrs_new.append(k)\n",
    "#     else:\n",
    "#         missing += 1\n",
    "        \n",
    "# with open(\"/data/prateek/github/see-food/images_10k/det_ingrs_small_updated.json\", \"w+\") as f:\n",
    "#     json.dump(det_ingrs_new, f)"
   ]
  },
  {
   "cell_type": "code",
   "execution_count": 69,
   "metadata": {},
   "outputs": [
    {
     "name": "stderr",
     "output_type": "stream",
     "text": [
      "100%|██████████| 3582/3582 [00:00<00:00, 3947.17it/s]"
     ]
    },
    {
     "name": "stdout",
     "output_type": "stream",
     "text": [
      "0\n"
     ]
    },
    {
     "name": "stderr",
     "output_type": "stream",
     "text": [
      "\n"
     ]
    }
   ],
   "source": [
    "with open(\"/data/prateek/github/see-food/images_10k/layer2_small_updated.json\", \"r\") as f:\n",
    "    layer2 = json.load(f)\n",
    "    \n",
    "layer2_new = []\n",
    "missing = 0\n",
    "for k in tqdm(layer2):\n",
    "    if k[\"id\"] in all_recipe_names:\n",
    "        imagesss = []\n",
    "        for im in k[\"images\"]:\n",
    "            if im[\"id\"] in all_images_list:\n",
    "                imagesss.append(im)\n",
    "        layer2_new.append({\n",
    "            \"id\" : k[\"id\"],\n",
    "            \"images\" : imagesss\n",
    "        })\n",
    "    else:\n",
    "        missing += 1\n",
    "\n",
    "print(missing)\n",
    "with open(\"/data/prateek/github/see-food/images_10k/layer2_small_updated.json\", \"w+\") as f:\n",
    "    json.dump(layer2_new, f)"
   ]
  },
  {
   "cell_type": "code",
   "execution_count": null,
   "metadata": {},
   "outputs": [],
   "source": []
  }
 ],
 "metadata": {
  "kernelspec": {
   "display_name": "base",
   "language": "python",
   "name": "python3"
  },
  "language_info": {
   "codemirror_mode": {
    "name": "ipython",
    "version": 3
   },
   "file_extension": ".py",
   "mimetype": "text/x-python",
   "name": "python",
   "nbconvert_exporter": "python",
   "pygments_lexer": "ipython3",
   "version": "3.8.3"
  },
  "orig_nbformat": 4
 },
 "nbformat": 4,
 "nbformat_minor": 2
}

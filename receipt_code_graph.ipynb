{
 "cells": [
  {
   "cell_type": "code",
   "execution_count": 1,
   "id": "bd939cc0",
   "metadata": {},
   "outputs": [
    {
     "name": "stderr",
     "output_type": "stream",
     "text": [
      "/nas/home/yifjia/ENTER/envs/tripPy_copy/lib/python3.7/site-packages/spacy/util.py:837: UserWarning: [W095] Model 'en_core_web_sm' (3.2.0) was trained with spaCy v3.2 and may not be 100% compatible with the current version (3.3.1). If you see errors or degraded performance, download a newer compatible model or retrain your custom model with the current spaCy version. For more details and available updates, run: python -m spacy validate\n",
      "  warnings.warn(warn_msg)\n"
     ]
    }
   ],
   "source": [
    "import os\n",
    "# os.environ[\"CUDA_VISIBLE_DEVICES\"] =\"6\"\n",
    "import json\n",
    "import sys\n",
    "import torch\n",
    "import random\n",
    "import numpy as np\n",
    "import pandas as pd\n",
    "import csv\n",
    "import spacy\n",
    "from tqdm import tqdm\n",
    "import json\n",
    "from collections import Counter\n",
    "import time\n",
    "import spacy\n",
    "import re\n",
    "\n",
    "nlp = spacy.load(\"en_core_web_sm\")"
   ]
  },
  {
   "cell_type": "markdown",
   "id": "7248c483",
   "metadata": {},
   "source": [
    "#### read prompting file"
   ]
  },
  {
   "cell_type": "code",
   "execution_count": 2,
   "id": "e4e9775c",
   "metadata": {},
   "outputs": [],
   "source": [
    "code_generation = np.load('./atomic_prompting/prompting_result_200.npy',allow_pickle=True)"
   ]
  },
  {
   "cell_type": "code",
   "execution_count": 3,
   "id": "7630327c",
   "metadata": {},
   "outputs": [],
   "source": [
    "def splitfeedback(sample):\n",
    "    feedback = sample['feedback']\n",
    "    step_result = {}\n",
    "    for step_feedback in feedback.split('\\n    def ')[1:]:\n",
    "        key = step_feedback.replace('()','').split(':')[0]\n",
    "        ### previous setting of temp is 0.7, which may bring some random \\n\\n main\n",
    "        code_step =  [_.lstrip() for _ in step_feedback.split('\\n\\n')[0].split('\\n ')[1:]]\n",
    "        step_result[key] = code_step\n",
    "        \n",
    "    return step_result"
   ]
  },
  {
   "cell_type": "code",
   "execution_count": 4,
   "id": "4659ec14",
   "metadata": {},
   "outputs": [],
   "source": [
    "for item in code_generation:\n",
    "    item['step_result'] = splitfeedback(item)"
   ]
  },
  {
   "cell_type": "markdown",
   "id": "c463a4ef",
   "metadata": {},
   "source": [
    "#### get raw operation and parameters"
   ]
  },
  {
   "cell_type": "code",
   "execution_count": 8,
   "id": "aaf8ad4e",
   "metadata": {
    "scrolled": false
   },
   "outputs": [
    {
     "name": "stdout",
     "output_type": "stream",
     "text": [
      "wrong at 10 because Out = h10\n",
      "23\n",
      "23\n",
      "Add_vodka_and_strain_through_a_colander:h11 = Strain(h10, container=colander)\n",
      "Strain_into_a_bowl,_allow_to_cool_slightly,_then_beat_in_the_soft_butter,_a_small_piece_at_a_time:h20 = Strain(h19, container=bowl)\n",
      "wrong at 103 because #Yield: 2/3 cup.\n",
      "wrong at 111 because Out = h7\n",
      "Fill_with_margarita_mix,_shake_well,_and_strain_into_glasses:h8 = Strain(h7, container=glasses)\n",
      "Strain_the_soup_through_a_fine_sieve:h12 = Strain(h11, how=through_a_fine_sieve)\n"
     ]
    }
   ],
   "source": [
    "operation_set = set()\n",
    "parameter_set = set()\n",
    "operation_dict = {}\n",
    "parameter_dict = {}\n",
    "for index,sample in enumerate(code_generation):\n",
    "        sample_result = sample['step_result']\n",
    "        for sen,step in sample_result.items():\n",
    "            for code in step:\n",
    "                try:\n",
    "                    operation = code.split(' = ')[1].split('(')[0].lstrip().lower()\n",
    "                    operation_set.add(operation.lstrip().rstrip())\n",
    "                    if operation == 'strain':\n",
    "                                print(sen+\":\"+code)\n",
    "                    operation_dict[operation] = operation_dict[operation] + 1 if operation in operation_dict.keys() else 1\n",
    "                    parameter_list = code.split('(')[1].split(')')[0].split(',')\n",
    "                    for step_parameter in parameter_list:\n",
    "                        if '=' in step_parameter:\n",
    "                            parameter = step_parameter.split('=')[0].lstrip()\n",
    "                            if parameter == 'ingredient':\n",
    "                                print(index)\n",
    "                            parameter_set.add(parameter)\n",
    "                            parameter_dict[parameter] = parameter_dict[parameter] + 1 if parameter in parameter_dict.keys() else 1\n",
    "                except:\n",
    "                    print('wrong at {} because {}'.format(index,code))"
   ]
  },
  {
   "cell_type": "markdown",
   "id": "729c1553",
   "metadata": {},
   "source": [
    "#### selected operation and parameter"
   ]
  },
  {
   "cell_type": "code",
   "execution_count": 9,
   "id": "067d4bc9",
   "metadata": {},
   "outputs": [],
   "source": [
    "operation_dict = sorted(operation_dict.items(),key = lambda x:x[1],reverse = True)\n",
    "parameter_dict = sorted(parameter_dict.items(),key = lambda x:x[1],reverse = True)"
   ]
  },
  {
   "cell_type": "code",
   "execution_count": 11,
   "id": "c499abc4",
   "metadata": {
    "scrolled": false
   },
   "outputs": [
    {
     "data": {
      "text/plain": [
       "2678"
      ]
     },
     "execution_count": 11,
     "metadata": {},
     "output_type": "execute_result"
    }
   ],
   "source": [
    "sum([int(_[1]) for _ in operation_dict])"
   ]
  },
  {
   "cell_type": "code",
   "execution_count": 12,
   "id": "7875e4b6",
   "metadata": {},
   "outputs": [
    {
     "data": {
      "text/plain": [
       "2248"
      ]
     },
     "execution_count": 12,
     "metadata": {},
     "output_type": "execute_result"
    }
   ],
   "source": [
    "sum([int(_[1]) for _ in operation_dict[:60]])"
   ]
  },
  {
   "cell_type": "code",
   "execution_count": 13,
   "id": "0b32632f",
   "metadata": {},
   "outputs": [
    {
     "data": {
      "text/plain": [
       "0.8394324122479462"
      ]
     },
     "execution_count": 13,
     "metadata": {},
     "output_type": "execute_result"
    }
   ],
   "source": [
    "2248/2678"
   ]
  },
  {
   "cell_type": "code",
   "execution_count": 16,
   "id": "61733a99",
   "metadata": {},
   "outputs": [],
   "source": [
    "Operation_Dict = {'add':['add','top'],\n",
    "                 'serve':['serve'],\n",
    "                 'stir':['stir'],\n",
    "                 'cook':['cook','saute'],\n",
    "                 'place':['place','transfer','put','spoon','arrange','line','set','set_aside','return','let_stand','strain'],\n",
    "                 'bake':['bake','grill','toast','roast','broil'],\n",
    "                 'mix':['mix','combine','pour','toss','blend','puree','cream','shake'],\n",
    "                 'preheat':['preheat'],\n",
    "                 'heat':['heat','melt','brown','microwave'],\n",
    "                 'cool':['cool','refrigerate','reduce','chill','freeze'],\n",
    "                 'remove':['remove'],\n",
    "                 'cover':['cover','seal'],\n",
    "                 'sprinkle':['sprinkle','whisk'],\n",
    "                 'cut':['cut','divide','slice','break','chop','peel','dice'],\n",
    "                 'boil':['boil'],\n",
    "                 'beat' :['beat'],\n",
    "                 'simmer':['simmer'],\n",
    "                 'drain':['drain'],\n",
    "                 'season': ['season'],\n",
    "                 'shape' : ['shape','fold','roll','press','knead','flatten','rise'],\n",
    "                 'garnish':['garnish'],\n",
    "                 'fry':['fry'],\n",
    "                 'fill':['fill'],\n",
    "                 'spread':['rub','spread','dip','grease','coat','brush'],\n",
    "                 'spray':['spray','drizzle','scatter'],\n",
    "                 'filt':['sift','scoop'],\n",
    "                 'crush':['crush','mash'],\n",
    "                 'steam':['steam'],\n",
    "                 'dissolve':['dissolve'],\n",
    "                 'make':['make','process','check','store','turn','measure']\n",
    "                 }\n",
    "\n",
    "Parameter_list = ['how','container','time','temp','tool','size','amount','speed','salt','pepper']"
   ]
  },
  {
   "cell_type": "code",
   "execution_count": 17,
   "id": "4d249c1a",
   "metadata": {},
   "outputs": [],
   "source": [
    "Operation_reverse_dict = {}\n",
    "for key,value_list in Operation_Dict.items():\n",
    "    for value in value_list:\n",
    "        Operation_reverse_dict[value]=key"
   ]
  },
  {
   "cell_type": "code",
   "execution_count": 20,
   "id": "bc2febdc",
   "metadata": {},
   "outputs": [],
   "source": [
    "sample = code_generation[0]\n",
    "step_result = sample['step_result']\n",
    "step_triple = []\n",
    "# (input , operation_dict, output)\n",
    "for sen,step_func_list in step_result.items():\n",
    "    for step_func in step_func_list:\n",
    "        step_output = step_func.split(\" = \")[0]\n",
    "        operation_detail = {}\n",
    "        step_operation = step_func.split(\" = \")[1].split(\"(\")[0].lower()\n",
    "        operation_detail['orginal_step_operation']=step_operation\n",
    "        step_operation = Operation_reverse_dict.get(step_operation,'make').capitalize()  \n",
    "        operation_detail['step_operation']=step_operation\n",
    "        function_detail = step_func.split('(')[1].split(')')[0]\n",
    "        step_input = [_.strip() for _ in function_detail.split(', ') if \"=\" not in _]\n",
    "        step_parameter = [_.strip() for _ in function_detail.split(', ') if \"=\" in _]\n",
    "        step_parameter,_ = filterParameter(step_parameter)\n",
    "        if _ is not None:\n",
    "            step_input.append(_)\n",
    "        operation_detail['step_parameter']=step_parameter\n",
    "        step_triple.append((step_input,operation_detail,step_output))"
   ]
  },
  {
   "cell_type": "code",
   "execution_count": 21,
   "id": "500ea261",
   "metadata": {},
   "outputs": [
    {
     "name": "stdout",
     "output_type": "stream",
     "text": [
      "Preheat oven to 350 degrees Fahrenheit.\n",
      "Spray pan with non stick cooking spray.\n",
      "Heat milk, water and butter to boiling; stir in contents of both pouches of potatoes; let stand one minute.\n",
      "Stir in corn.\n",
      "Spoon half the potato mixture in pan.\n",
      "Sprinkle half each of cheese and onions; top with remaining potatoes.\n",
      "Sprinkle with remaining cheese and onions.\n",
      "Bake 10 to 15 minutes until cheese is melted.\n",
      "Enjoy !\n"
     ]
    }
   ],
   "source": [
    "for item in code_generation[0]['instructions']:\n",
    "    print(item['text'])"
   ]
  },
  {
   "cell_type": "code",
   "execution_count": 22,
   "id": "7499b9dc",
   "metadata": {},
   "outputs": [
    {
     "data": {
      "text/plain": [
       "[([],\n",
       "  {'orginal_step_operation': 'preheat',\n",
       "   'step_operation': 'Preheat',\n",
       "   'step_parameter': [('tool', 'oven'), ('temp', '350 degrees F')]},\n",
       "  'h1'),\n",
       " (['pan'],\n",
       "  {'orginal_step_operation': 'spray',\n",
       "   'step_operation': 'Spray',\n",
       "   'step_parameter': [('how', 'non_stick_cooking_spray')]},\n",
       "  'h2'),\n",
       " (['milk', 'water', 'butter'],\n",
       "  {'orginal_step_operation': 'heat',\n",
       "   'step_operation': 'Heat',\n",
       "   'step_parameter': [('how', 'to_boiling')]},\n",
       "  'h3'),\n",
       " (['h3', 'pouches'],\n",
       "  {'orginal_step_operation': 'stir',\n",
       "   'step_operation': 'Stir',\n",
       "   'step_parameter': [('how', 'contents_of_both_pouches_of_potatoes')]},\n",
       "  'h4'),\n",
       " (['h4'],\n",
       "  {'orginal_step_operation': 'stand',\n",
       "   'step_operation': 'Make',\n",
       "   'step_parameter': [('time', 'one_minute')]},\n",
       "  'h5'),\n",
       " (['h5', 'corn'],\n",
       "  {'orginal_step_operation': 'stir',\n",
       "   'step_operation': 'Stir',\n",
       "   'step_parameter': []},\n",
       "  'h6'),\n",
       " (['h6'],\n",
       "  {'orginal_step_operation': 'spoon',\n",
       "   'step_operation': 'Place',\n",
       "   'step_parameter': [('container', 'pan'),\n",
       "    ('how', 'half_the_potato_mixture')]},\n",
       "  'h7'),\n",
       " (['cheese', 'onions', 'h7'],\n",
       "  {'orginal_step_operation': 'sprinkle',\n",
       "   'step_operation': 'Sprinkle',\n",
       "   'step_parameter': [('how', 'half_each_of_cheese_and_onions')]},\n",
       "  'h8'),\n",
       " (['h8', 'potatoes'],\n",
       "  {'orginal_step_operation': 'top',\n",
       "   'step_operation': 'Add',\n",
       "   'step_parameter': [('how', 'with_remaining_potatoes')]},\n",
       "  'h9'),\n",
       " (['cheese', 'onions', 'h9'],\n",
       "  {'orginal_step_operation': 'sprinkle',\n",
       "   'step_operation': 'Sprinkle',\n",
       "   'step_parameter': [('how', 'with_remaining_cheese_and_onions')]},\n",
       "  'h10'),\n",
       " (['h1', 'h10'],\n",
       "  {'orginal_step_operation': 'bake',\n",
       "   'step_operation': 'Bake',\n",
       "   'step_parameter': [('time', '10-15 minutes'),\n",
       "    ('how', 'until_cheese_is_melted')]},\n",
       "  'h11'),\n",
       " (['h11'],\n",
       "  {'orginal_step_operation': 'enjoy',\n",
       "   'step_operation': 'Make',\n",
       "   'step_parameter': []},\n",
       "  'Out')]"
      ]
     },
     "execution_count": 22,
     "metadata": {},
     "output_type": "execute_result"
    }
   ],
   "source": [
    "step_triple"
   ]
  },
  {
   "cell_type": "code",
   "execution_count": 23,
   "id": "6cd848d6",
   "metadata": {},
   "outputs": [],
   "source": [
    "original_input = []\n",
    "for step in step_triple:\n",
    "    for ingredient in step[0]:\n",
    "        if not ingredient.replace('h',\"\").isdigit():\n",
    "            original_input.append(ingredient)"
   ]
  },
  {
   "cell_type": "code",
   "execution_count": 24,
   "id": "c83490b1",
   "metadata": {},
   "outputs": [],
   "source": [
    "operation_list = []\n",
    "for step in step_triple:\n",
    "    func_dict = step[1]\n",
    "    operation_list.append(func_dict['step_operation'])"
   ]
  },
  {
   "cell_type": "markdown",
   "id": "71af34ff",
   "metadata": {},
   "source": [
    "# Untils"
   ]
  },
  {
   "cell_type": "code",
   "execution_count": 19,
   "id": "9abaaa44",
   "metadata": {},
   "outputs": [],
   "source": [
    "def filterParameter(step_parameter):\n",
    "    filter_parameter = []\n",
    "    ### special for ingredient\n",
    "    ingredient = None\n",
    "    for item in step_parameter:\n",
    "        parameter_name = item.split('=')[0]\n",
    "        parameter_value = item.split('=')[1]\n",
    "        if parameter_name in Parameter_list:\n",
    "            filter_parameter.append((parameter_name,parameter_value))\n",
    "        if parameter_name == 'until':\n",
    "            filter_parameter.append(('how','until_'+parameter_value))\n",
    "        if parameter_name == 'heat':\n",
    "            filter_parameter.append(('temp',parameter_value+'_heat'))\n",
    "        if parameter_name == 'ingredient':\n",
    "            ingredient = parameter_value\n",
    "    return filter_parameter,ingredient"
   ]
  },
  {
   "cell_type": "code",
   "execution_count": null,
   "id": "9a817b09",
   "metadata": {},
   "outputs": [],
   "source": []
  }
 ],
 "metadata": {
  "kernelspec": {
   "display_name": "Python 3 (ipykernel)",
   "language": "python",
   "name": "python3"
  },
  "language_info": {
   "codemirror_mode": {
    "name": "ipython",
    "version": 3
   },
   "file_extension": ".py",
   "mimetype": "text/x-python",
   "name": "python",
   "nbconvert_exporter": "python",
   "pygments_lexer": "ipython3",
   "version": "3.7.13"
  }
 },
 "nbformat": 4,
 "nbformat_minor": 5
}

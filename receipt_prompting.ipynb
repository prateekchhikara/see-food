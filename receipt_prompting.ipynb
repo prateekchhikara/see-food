{
 "cells": [
  {
   "cell_type": "code",
   "execution_count": 1,
   "id": "bd939cc0",
   "metadata": {},
   "outputs": [],
   "source": [
    "import os\n",
    "# os.environ[\"CUDA_VISIBLE_DEVICES\"] =\"7\"\n",
    "import json\n",
    "import sys\n",
    "import torch\n",
    "import random\n",
    "import numpy as np\n",
    "import pandas as pd\n",
    "import csv\n",
    "import spacy\n",
    "from tqdm import tqdm\n",
    "import json\n",
    "from collections import Counter\n",
    "import time\n",
    "import spacy\n",
    "import re\n",
    "import openai\n",
    "openai.api_key = {{API}}\n",
    "nlp = spacy.load(\"en_core_web_sm\")"
   ]
  },
  {
   "cell_type": "code",
   "execution_count": 13,
   "id": "fce17809",
   "metadata": {},
   "outputs": [],
   "source": [
    "with open('layer1_small.json', 'r') as f:\n",
    "    receipt = json.load(f)"
   ]
  },
  {
   "cell_type": "markdown",
   "id": "a67bd881",
   "metadata": {},
   "source": [
    "#### original_prompt"
   ]
  },
  {
   "cell_type": "code",
   "execution_count": 132,
   "id": "0bf5f089",
   "metadata": {},
   "outputs": [],
   "source": [
    "original_prompt=\"def main():\\n    #instructions: \\n    #Preheat the oven to 350 F. Butter or oil an 8-inch baking dish.\\n    #Cook the penne 2 minutes less than package directions.\\n    #Rinse the pasta in cold water and set aside.\\n    #Combine the cooked pasta and the sauce in a medium bowl and mix carefully but thoroughly.\\n    #Scrape the pasta into the prepared baking dish.\\n    #Sprinkle the top with the cheeses and then the chili powder.\\n    #Bake, uncovered, for 20 minutes.\\n    #Let the mac and cheese sit for 5 minutes before serving.\\n    #Melt the butter in a heavy-bottomed saucepan over medium heat and whisk in the flour.\\n    #Continue whisking and cooking for 2 minutes.\\n    #Slowly add the milk, whisking constantly.\\n    #Cook until the sauce thickens, about 10 minutes, stirring frequently.\\n    #Remove from the heat.\\n    #Add the cheeses, salt, chili powder, and garlic powder.\\n    #Stir until the cheese is melted and all ingredients are incorporated, about 3 minutes.\\n    #Use immediately, or refrigerate for up to 3 days.\\n    def Preheat_the_oven_to_350_F._Butter_or_oil_an_8-inch_baking_dish():\\n        h1 = Preheat(tool=oven, temp=350 degrees F)\\n        h2 = Rub(oil, baking dish)\\n    def Cook_the_penne_2_minutes_less_than_package_directions():\\n        h3 = Cook(penne, time=2 minutes, how=less_than_package_directions)\\n    def Rinse_the_pasta_in_cold_water_and_set_aside():\\n        h4 = Rinse(h3, temp = cold)\\n    def Combine_the_cooked_pasta_and_the_sauce_in_a_medium_bowl_and_mix_carefully_but_thoroughly():\\n        h5 = Mix(h4, sause, container=medium_bowl, how=carefully_but_thoroughly)\\n    def Scrape_the_pasta_into_the_prepared_baking_dish():\\n        h6 = Scrape(h5, container=h2)\\n    def Sprinkle_the_top_with_the_cheeses_and_then_the_chili_powder():\\n        h7 = Sprinkle(cheeses, powder, h6)\\n    def Bake,_uncovered,_for_20_minutes():\\n        h8 = Bake(h1, h7, time=20 minutes)\\n    def Let_the_mac_and_cheese_sit_for_5_minutes_before_serving():\\n        h9 = Cool(mac, cheese, time=5 minutes)\\n    def Melt_the_butter_in_a_heavy-bottomed_saucepan_over_medium_heat_and_whisk_in_the_flour():\\n        h10 = Melt(butter, container=heavy_bottomed_saucepan, temp=medium_heat)\\n        h11 = Whisk(h10,flour)\\n    def Continue_whisking_and_cooking_for_2_minutes():\\n        h12 = Cook(h11, time=2 minutes)\\n    def Slowly_add_the_milk,_whisking_constantly():\\n        h13 = Add(milk, h12, how=whisking_constantly)\\n    def Cook_until_the_sauce_thickens,_about_10_minutes,_stirring_frequently():\\n        h14 = Cook(h13, time=10 minutes, how=sauce_thickens)\\n    def Remove_from_the_heat():\\n        h15 = Remove(h14, how=from_the_heat)\\n    def Add_the_cheeses,_salt,_chili_powder,_and_garlic_powder():\\n        h16 = Add(cheeses, salt, powder, h15)\\n    def Stir_until_the_cheese_is_melted_and_all_ingredients_are_incorporated,_about_3_minutes():\\n        h17 = Stir(h16, time=3 minutes, how=until_the_cheese_is_melted_and_all_ingredients_are_incorporated)\\n    def Use_immediately,_or_refrigerate_for_up_to_3_days():\\n        Out = Serve(h17, how=immediately,_or_refrigerate_for_up_to_3_days)\\n\\ndef main():    \\n    #instructions:\\n    #Cook macaroni according to package directions; drain well.\\n    #Cold.\\n    #Combine macaroni, cheese cubes, celery, green pepper and pimento.\\n    #Blend together mayonnaise or possibly salad dressing, vinegar, salt and dill weed; add in to macaroni mix.\\n    #Toss lightly.\\n    #Cover and refrigerate well.\\n    #Serve salad in lettuce lined bowl if you like. \\n    def Cook_macaroni_according_to_package_directions;_drain_well():\\n        h1 = Cook(macaroni, how=according_to_package_directions)\\n    def Cold():\\n        h2 = Cold(h1)\\n    def Combine_macaroni,_cheese_cubes,_celery,_green_pepper_and_pimento():\\n        h3 = Combine(macaroni, cheese, celery, pepper, pimento)\\n    def Blend_together_mayonnaise_or_possibly_salad_dressing,_vinegar,_salt_and_dill_weed;_add_in_to_macaroni_mix():\\n        h4 = Blend(dressing, vinegar, salt, weed)\\n        h5 = Add(h4, h3)\\n    def Toss_lightly():\\n        h6 = Toss(h5, how=lightly)\\n    def Cover_and_refrigerate_well():\\n        h7 = Cover(h6, how=well)\\n        h8 = Refrigerate(h7, how=well)\\n    def Serve_salad_in_lettuce_lined_bowl_if_you_like():\\n        Out = Sevre(h8, how=in_lettuce_lined_bowl_if_you_like)\\n\\ndef main():\\n    #instructions:    \\n    #Add the tomatoes to a food processor with a pinch of salt and puree until smooth.\\n    #Combine the onions, bell peppers and cucumbers with the tomato puree in a large bowl.\\n    #Chill at least 1 hour.\\n    #Drizzle with olive oil, garnish with chopped basil and serve.\\n    def Add_the_tomatoes_to_a_food_processor_with_a_pinch_of_salt_and_puree_until_smooth():\\n        h1 = Add(tomatoes, salt, container=food_processor)\\n        h2 = Puree(h1, how=until_smooth)\\n    def Combine_the_onions,_bell_peppers_and_cucumbers_with_the_tomato_puree_in_a_large_bowl():\\n        h3 = Combine(onions, pepper, cucumbers, h2, container=large_bowl)\\n    def Chill_at_least_1_hour():\\n        h4 = Chill(h3, time=1 hour)\\n    def Drizzle_with_olive_oil,_garnish_with_chopped_basil_and_serve():\\n        h5 = Drizzle(h4, oil, how=with_olive_oil,_garnish_with_chopped_basil_and_serve)\\n        Out = Serve(h5)\""
   ]
  },
  {
   "cell_type": "code",
   "execution_count": 183,
   "id": "e9f7cb8c",
   "metadata": {},
   "outputs": [
    {
     "name": "stdout",
     "output_type": "stream",
     "text": [
      "def main():\n",
      "    #instructions: \n",
      "    #Preheat the oven to 350 F. Butter or oil an 8-inch baking dish.\n",
      "    #Cook the penne 2 minutes less than package directions.\n",
      "    #Rinse the pasta in cold water and set aside.\n",
      "    #Combine the cooked pasta and the sauce in a medium bowl and mix carefully but thoroughly.\n",
      "    #Scrape the pasta into the prepared baking dish.\n",
      "    #Sprinkle the top with the cheeses and then the chili powder.\n",
      "    #Bake, uncovered, for 20 minutes.\n",
      "    #Let the mac and cheese sit for 5 minutes before serving.\n",
      "    #Melt the butter in a heavy-bottomed saucepan over medium heat and whisk in the flour.\n",
      "    #Continue whisking and cooking for 2 minutes.\n",
      "    #Slowly add the milk, whisking constantly.\n",
      "    #Cook until the sauce thickens, about 10 minutes, stirring frequently.\n",
      "    #Remove from the heat.\n",
      "    #Add the cheeses, salt, chili powder, and garlic powder.\n",
      "    #Stir until the cheese is melted and all ingredients are incorporated, about 3 minutes.\n",
      "    #Use immediately, or refrigerate for up to 3 days.\n",
      "    def Preheat_the_oven_to_350_F._Butter_or_oil_an_8-inch_baking_dish():\n",
      "        h1 = Preheat(tool=oven, temp=350 degrees F)\n",
      "        h2 = Rub(oil, baking dish)\n",
      "    def Cook_the_penne_2_minutes_less_than_package_directions():\n",
      "        h3 = Cook(penne, time=2 minutes, how=less_than_package_directions)\n",
      "    def Rinse_the_pasta_in_cold_water_and_set_aside():\n",
      "        h4 = Rinse(h3, temp = cold)\n",
      "    def Combine_the_cooked_pasta_and_the_sauce_in_a_medium_bowl_and_mix_carefully_but_thoroughly():\n",
      "        h5 = Mix(h4, sause, container=medium_bowl, how=carefully_but_thoroughly)\n",
      "    def Scrape_the_pasta_into_the_prepared_baking_dish():\n",
      "        h6 = Scrape(h5, container=h2)\n",
      "    def Sprinkle_the_top_with_the_cheeses_and_then_the_chili_powder():\n",
      "        h7 = Sprinkle(cheeses, powder, h6)\n",
      "    def Bake,_uncovered,_for_20_minutes():\n",
      "        h8 = Bake(h1, h7, time=20 minutes)\n",
      "    def Let_the_mac_and_cheese_sit_for_5_minutes_before_serving():\n",
      "        h9 = Cool(mac, cheese, time=5 minutes)\n",
      "    def Melt_the_butter_in_a_heavy-bottomed_saucepan_over_medium_heat_and_whisk_in_the_flour():\n",
      "        h10 = Melt(butter, container=heavy_bottomed_saucepan, temp=medium_heat)\n",
      "        h11 = Whisk(h10,flour)\n",
      "    def Continue_whisking_and_cooking_for_2_minutes():\n",
      "        h12 = Cook(h11, time=2 minutes)\n",
      "    def Slowly_add_the_milk,_whisking_constantly():\n",
      "        h13 = Add(milk, h12, how=whisking_constantly)\n",
      "    def Cook_until_the_sauce_thickens,_about_10_minutes,_stirring_frequently():\n",
      "        h14 = Cook(h13, time=10 minutes, how=sauce_thickens)\n",
      "    def Remove_from_the_heat():\n",
      "        h15 = Remove(h14, how=from_the_heat)\n",
      "    def Add_the_cheeses,_salt,_chili_powder,_and_garlic_powder():\n",
      "        h16 = Add(cheeses, salt, powder, h15)\n",
      "    def Stir_until_the_cheese_is_melted_and_all_ingredients_are_incorporated,_about_3_minutes():\n",
      "        h17 = Stir(h16, time=3 minutes, how=until_the_cheese_is_melted_and_all_ingredients_are_incorporated)\n",
      "    def Use_immediately,_or_refrigerate_for_up_to_3_days():\n",
      "        Out = Serve(h17, how=immediately,_or_refrigerate_for_up_to_3_days)\n",
      "\n",
      "def main():    \n",
      "    #instructions:\n",
      "    #Cook macaroni according to package directions; drain well.\n",
      "    #Cold.\n",
      "    #Combine macaroni, cheese cubes, celery, green pepper and pimento.\n",
      "    #Blend together mayonnaise or possibly salad dressing, vinegar, salt and dill weed; add in to macaroni mix.\n",
      "    #Toss lightly.\n",
      "    #Cover and refrigerate well.\n",
      "    #Serve salad in lettuce lined bowl if you like. \n",
      "    def Cook_macaroni_according_to_package_directions;_drain_well():\n",
      "        h1 = Cook(macaroni, how=according_to_package_directions)\n",
      "    def Cold():\n",
      "        h2 = Cold(h1)\n",
      "    def Combine_macaroni,_cheese_cubes,_celery,_green_pepper_and_pimento():\n",
      "        h3 = Combine(macaroni, cheese, celery, pepper, pimento)\n",
      "    def Blend_together_mayonnaise_or_possibly_salad_dressing,_vinegar,_salt_and_dill_weed;_add_in_to_macaroni_mix():\n",
      "        h4 = Blend(dressing, vinegar, salt, weed)\n",
      "        h5 = Add(h4, h3)\n",
      "    def Toss_lightly():\n",
      "        h6 = Toss(h5, how=lightly)\n",
      "    def Cover_and_refrigerate_well():\n",
      "        h7 = Cover(h6, how=well)\n",
      "        h8 = Refrigerate(h7, how=well)\n",
      "    def Serve_salad_in_lettuce_lined_bowl_if_you_like():\n",
      "        Out = Sevre(h8, how=in_lettuce_lined_bowl_if_you_like)\n",
      "\n",
      "def main():\n",
      "    #instructions:    \n",
      "    #Add the tomatoes to a food processor with a pinch of salt and puree until smooth.\n",
      "    #Combine the onions, bell peppers and cucumbers with the tomato puree in a large bowl.\n",
      "    #Chill at least 1 hour.\n",
      "    #Drizzle with olive oil, garnish with chopped basil and serve.\n",
      "    def Add_the_tomatoes_to_a_food_processor_with_a_pinch_of_salt_and_puree_until_smooth():\n",
      "        h1 = Add(tomatoes, salt, container=food_processor)\n",
      "        h2 = Puree(h1, how=until_smooth)\n",
      "    def Combine_the_onions,_bell_peppers_and_cucumbers_with_the_tomato_puree_in_a_large_bowl():\n",
      "        h3 = Combine(onions, pepper, cucumbers, h2, container=large_bowl)\n",
      "    def Chill_at_least_1_hour():\n",
      "        h4 = Chill(h3, time=1 hour)\n",
      "    def Drizzle_with_olive_oil,_garnish_with_chopped_basil_and_serve():\n",
      "        h5 = Drizzle(h4, oil, how=with_olive_oil,_garnish_with_chopped_basil_and_serve)\n",
      "        Out = Serve(h5)\n"
     ]
    }
   ],
   "source": [
    "print(original_prompt)"
   ]
  },
  {
   "cell_type": "markdown",
   "id": "775d2a7f",
   "metadata": {},
   "source": [
    "#### start prompting"
   ]
  },
  {
   "cell_type": "code",
   "execution_count": 181,
   "id": "070fe628",
   "metadata": {},
   "outputs": [
    {
     "name": "stderr",
     "output_type": "stream",
     "text": [
      " 83%|████████▎ | 166/200 [1:56:28<23:51, 42.10s/it]  \n"
     ]
    }
   ],
   "source": [
    "data_number = 200\n",
    "data_index = 0\n",
    "# result_list = []\n",
    "with tqdm(total=data_number) as pbar: \n",
    "    while True:\n",
    "        try:\n",
    "            time.sleep(30)\n",
    "            with open(\"atomic_log.txt\",\"a\") as file:\n",
    "                file.write(\"prompting begin at {data_index}\\n\".format(data_index=data_index))\n",
    "            sample_data = receipt[3+data_index]\n",
    "            input_prompting = constructInput(sample_data)\n",
    "            sample_prompt = original_prompt + input_prompting\n",
    "\n",
    "            response = openai.Completion.create(\n",
    "              model=\"text-davinci-003\",\n",
    "              prompt = sample_prompt,\n",
    "              temperature=0,\n",
    "              max_tokens=min(4000-int(len(sample_prompt)/3),1500),\n",
    "              top_p=1,\n",
    "              frequency_penalty=0,\n",
    "              presence_penalty=0,\n",
    "              stop=[\"main():\"]\n",
    "            )\n",
    "            sample_data['feedback'] = response['choices'][0]['text']\n",
    "            result_list.append(sample_data)\n",
    "            if data_index >0 and data_index%5 ==0:\n",
    "                np.save('atomic_prompting/prompting_result_{}'.format(data_index), result_list)\n",
    "            if data_index == data_number:\n",
    "                break\n",
    "            data_index+=1\n",
    "            pbar.update(1)\n",
    "        except:\n",
    "            time.sleep(30)\n",
    "            with open(\"atomic_log.txt\",\"a\") as file:\n",
    "                file.write(\"reach limitation at {data_index}\\n\".format(data_index=data_index))"
   ]
  },
  {
   "cell_type": "markdown",
   "id": "c55c5fed",
   "metadata": {},
   "source": [
    "# utilis"
   ]
  },
  {
   "cell_type": "code",
   "execution_count": 139,
   "id": "ef7b653e",
   "metadata": {},
   "outputs": [],
   "source": [
    "def constructInput(sample):\n",
    "    input_prompting = \"def main():\\n\"\n",
    "    instructions = sample['instructions']\n",
    "    raw_instructions = [_['text'] for _ in instructions]    \n",
    "    for index,item in enumerate(raw_instructions):\n",
    "        if index == len(raw_instructions)-1:\n",
    "            input_prompting += '    #'+ item\n",
    "        else:\n",
    "            input_prompting += '    #'+ item + '\\n'\n",
    "    \n",
    "    return input_prompting"
   ]
  },
  {
   "cell_type": "code",
   "execution_count": 79,
   "id": "c73c56a8",
   "metadata": {},
   "outputs": [],
   "source": [
    "def getIngred(ingredients):\n",
    "    ingredients = set([re.sub('[(](.*?)[)]',\"\",_['text'].split(\",\")[0]).rstrip().split(\" \")[-1] for _ in ingredients])\n",
    "    if '' in ingredients:\n",
    "        ingredients.remove('')\n",
    "    return ingredients"
   ]
  }
 ],
 "metadata": {
  "kernelspec": {
   "display_name": "Python 3 (ipykernel)",
   "language": "python",
   "name": "python3"
  },
  "language_info": {
   "codemirror_mode": {
    "name": "ipython",
    "version": 3
   },
   "file_extension": ".py",
   "mimetype": "text/x-python",
   "name": "python",
   "nbconvert_exporter": "python",
   "pygments_lexer": "ipython3",
   "version": "3.7.13"
  }
 },
 "nbformat": 4,
 "nbformat_minor": 5
}
